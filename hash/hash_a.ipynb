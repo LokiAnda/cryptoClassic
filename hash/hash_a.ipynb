{
 "cells": [
  {
   "attachments": {},
   "cell_type": "markdown",
   "metadata": {},
   "source": [
    "# Hash functions \n",
    "#### By: Javier Orduz\n",
    "[license-badge]: https://img.shields.io/badge/License-CC-orange\n",
    "[license]: https://creativecommons.org/licenses/by-nc-sa/3.0/deed.en\n",
    "[![CC License][license-badge]][license]\n",
    "[![DS](https://img.shields.io/badge/downloads-DS-green)](https://github.com/Earlham-College/DS_Fall_2022)\n",
    "[![Github](https://img.shields.io/badge/jaorduz-repos-blue)](https://github.com/jaorduz/)\n",
    "[![Github](https://img.shields.io/badge/jaorduc-repos-blue)](https://github.com/jaorduc/)\n",
    "\n",
    "![Follow @jaorduc](https://img.shields.io/twitter/follow/jaorduc?label=follow&logo=twitter&logoColor=lkj&style=plastic)\n"
   ]
  },
  {
   "cell_type": "code",
   "execution_count": 33,
   "metadata": {},
   "outputs": [],
   "source": [
    "import hashlib\n",
    "\n",
    "\n",
    "i = hashlib.sha256()\n",
    "j = hashlib.sha512()\n",
    "k = hashlib.sha1()\n",
    "h = hashlib.md5()\n"
   ]
  },
  {
   "cell_type": "code",
   "execution_count": 34,
   "metadata": {},
   "outputs": [
    {
     "name": "stdout",
     "output_type": "stream",
     "text": [
      "64a1e1972b663b35a8c06b453ce018251efef00925fb414217f6087f179031b8\n",
      "b'd\\xa1\\xe1\\x97+f;5\\xa8\\xc0kE<\\xe0\\x18%\\x1e\\xfe\\xf0\\t%\\xfbAB\\x17\\xf6\\x08\\x7f\\x17\\x901\\xb8'\n"
     ]
    }
   ],
   "source": [
    "i.update(b\"cybersecurity\")\n",
    "\n",
    "print(i.hexdigest())\n",
    "print(i.digest())"
   ]
  },
  {
   "cell_type": "code",
   "execution_count": 31,
   "metadata": {},
   "outputs": [
    {
     "data": {
      "text/plain": [
       "b'd\\xa1\\xe1\\x97+f;5\\xa8\\xc0kE<\\xe0\\x18%\\x1e\\xfe\\xf0\\t%\\xfbAB\\x17\\xf6\\x08\\x7f\\x17\\x901\\xb8'"
      ]
     },
     "execution_count": 31,
     "metadata": {},
     "output_type": "execute_result"
    }
   ],
   "source": [
    "j.update(b\"cybersecurity\")\n",
    "\n",
    "print(j.hexdigest())\n",
    "print(j.digest())"
   ]
  },
  {
   "cell_type": "code",
   "execution_count": 35,
   "metadata": {},
   "outputs": [
    {
     "name": "stdout",
     "output_type": "stream",
     "text": [
      "78fd5cac8c025babdb453751f04931a0ec865610\n",
      "b'x\\xfd\\\\\\xac\\x8c\\x02[\\xab\\xdbE7Q\\xf0I1\\xa0\\xec\\x86V\\x10'\n"
     ]
    }
   ],
   "source": [
    "k.update(b\"cybersecurity\")\n",
    "\n",
    "print(k.hexdigest())\n",
    "print(k.digest())"
   ]
  },
  {
   "cell_type": "code",
   "execution_count": 37,
   "metadata": {},
   "outputs": [
    {
     "name": "stdout",
     "output_type": "stream",
     "text": [
      "d7f271996482e89a324292d563a9068a\n",
      "b'\\xd7\\xf2q\\x99d\\x82\\xe8\\x9a2B\\x92\\xd5c\\xa9\\x06\\x8a'\n"
     ]
    }
   ],
   "source": [
    "h.update(b\"cybersecurity\")\n",
    "\n",
    "print(h.hexdigest())\n",
    "print(h.digest())"
   ]
  },
  {
   "cell_type": "code",
   "execution_count": null,
   "metadata": {},
   "outputs": [],
   "source": []
  }
 ],
 "metadata": {
  "kernelspec": {
   "display_name": "Python 3",
   "language": "python",
   "name": "python3"
  },
  "language_info": {
   "codemirror_mode": {
    "name": "ipython",
    "version": 3
   },
   "file_extension": ".py",
   "mimetype": "text/x-python",
   "name": "python",
   "nbconvert_exporter": "python",
   "pygments_lexer": "ipython3",
   "version": "3.10.4"
  },
  "orig_nbformat": 4
 },
 "nbformat": 4,
 "nbformat_minor": 2
}
